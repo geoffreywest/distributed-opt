{
 "cells": [
  {
   "cell_type": "code",
   "execution_count": 2,
   "metadata": {},
   "outputs": [],
   "source": [
    "import numpy as np\n",
    "import matplotlib.pyplot as plt"
   ]
  },
  {
   "cell_type": "code",
   "execution_count": null,
   "metadata": {},
   "outputs": [],
   "source": [
    "num_sims = 5  # Display five runs\n",
    " 6 \n",
    " 7 t_init = 3\n",
    " 8 t_end  = 7\n",
    " 9 N      = 1000  # Compute 1000 grid points\n",
    "10 dt     = float(t_end - t_init) / N\n",
    "11 y_init = 0\n",
    "12 \n",
    "13 c_theta = 0.7\n",
    "14 c_mu    = 1.5\n",
    "15 c_sigma = 0.06\n",
    "16 \n",
    "17 def mu(y, t):\n",
    "18     \"\"\"Implement the Ornstein–Uhlenbeck mu.\"\"\"  # = \\theta (\\mu-Y_t)\n",
    "19     return c_theta * (c_mu - y)\n",
    "20 \n",
    "21 def sigma(y, t):\n",
    "22     \"\"\"Implement the Ornstein–Uhlenbeck sigma.\"\"\"  # = \\sigma\n",
    "23     return c_sigma\n",
    "24 \n",
    "25 def dW(delta_t):\n",
    "26     \"\"\"Sample a random number at each call.\"\"\"\n",
    "27     return np.random.normal(loc=0.0, scale=np.sqrt(delta_t))\n",
    "28 \n",
    "29 ts = np.arange(t_init, t_end + dt, dt)\n",
    "30 ys = np.zeros(N + 1)\n",
    "31 \n",
    "32 ys[0] = y_init\n",
    "33 \n",
    "34 for _ in range(num_sims):\n",
    "35     for i in range(1, ts.size):\n",
    "36         t = (i - 1) * dt\n",
    "37         y = ys[i - 1]\n",
    "38         ys[i] = y + mu(y, t) * dt + sigma(y, t) * dW(dt)\n",
    "39     plt.plot(ts, ys)\n",
    "40 \n",
    "41 plt.xlabel(\"time (s)\")\n",
    "42 h = plt.ylabel(\"y\")\n",
    "43 h.set_rotation(0)\n",
    "44 plt.show()"
   ]
  },
  {
   "cell_type": "markdown",
   "metadata": {},
   "source": [
    "What to I want to get done here?\n",
    "\n",
    "- So we've shown that spherical quadratic implies autoregressive i.e. OU in the continuous setting which favors local steps.\n",
    "- Now we want to show that when we induce the bias term, we favor a small q"
   ]
  },
  {
   "cell_type": "code",
   "execution_count": 3,
   "metadata": {},
   "outputs": [
    {
     "data": {
      "text/plain": [
       "array([[0., 0., 0., 0., 0., 0., 0., 0., 0., 0.],\n",
       "       [0., 0., 0., 0., 0., 0., 0., 0., 0., 0.],\n",
       "       [0., 0., 0., 0., 0., 0., 0., 0., 0., 0.],\n",
       "       [0., 0., 0., 0., 0., 0., 0., 0., 0., 0.],\n",
       "       [0., 0., 0., 0., 0., 0., 0., 0., 0., 0.]])"
      ]
     },
     "execution_count": 3,
     "metadata": {},
     "output_type": "execute_result"
    }
   ],
   "source": [
    "np.zeros((5,10))"
   ]
  },
  {
   "cell_type": "code",
   "execution_count": 25,
   "metadata": {},
   "outputs": [],
   "source": [
    "def fib(n):\n",
    "    a = (1 + np.sqrt(5)) / 2.0\n",
    "    b = (1 - np.sqrt(5)) / 2.0\n",
    "    return np.round(a ** n / np.sqrt(5))\n",
    "    return (a ** n - b ** n) / np.sqrt(5)"
   ]
  },
  {
   "cell_type": "code",
   "execution_count": 27,
   "metadata": {},
   "outputs": [
    {
     "name": "stdout",
     "output_type": "stream",
     "text": [
      "0.0\n",
      "1.0\n",
      "1.0\n",
      "2.0\n",
      "3.0\n",
      "5.0\n",
      "8.0\n",
      "13.0\n",
      "21.0\n",
      "34.0\n",
      "55.0\n",
      "89.0\n",
      "144.0\n",
      "233.0\n",
      "377.0\n",
      "610.0\n",
      "987.0\n",
      "1597.0\n",
      "2584.0\n",
      "4181.0\n"
     ]
    }
   ],
   "source": [
    "for i in range(20):\n",
    "    print(fib(i))"
   ]
  },
  {
   "cell_type": "code",
   "execution_count": 37,
   "metadata": {},
   "outputs": [],
   "source": [
    "def k_most_frequent(xs, k):\n",
    "    count = {}\n",
    "    for x in xs:\n",
    "        if x in count.keys():\n",
    "            count[x] += 1\n",
    "        else:\n",
    "            count[x] = 1\n",
    "    \n",
    "    by_count = sorted([(v, k) for (k, v) in count.items()])\n",
    "    pairs = by_count[-k:]\n",
    "    return [p for (_,p) in pairs]"
   ]
  },
  {
   "cell_type": "code",
   "execution_count": 38,
   "metadata": {},
   "outputs": [
    {
     "data": {
      "text/plain": [
       "[1, 2, 3]"
      ]
     },
     "execution_count": 38,
     "metadata": {},
     "output_type": "execute_result"
    }
   ],
   "source": [
    "xs = [x // 2 for x in range(12)] + [1,2,3]\n",
    "k_most_frequent(xs, 3)"
   ]
  },
  {
   "cell_type": "code",
   "execution_count": 33,
   "metadata": {},
   "outputs": [
    {
     "data": {
      "text/plain": [
       "[0, 0, 1, 1, 2, 2, 3, 3, 4, 4, 5, 5, 1, 2, 3]"
      ]
     },
     "execution_count": 33,
     "metadata": {},
     "output_type": "execute_result"
    }
   ],
   "source": [
    "xs"
   ]
  },
  {
   "cell_type": "code",
   "execution_count": null,
   "metadata": {},
   "outputs": [],
   "source": []
  }
 ],
 "metadata": {
  "kernelspec": {
   "display_name": "Python 3",
   "language": "python",
   "name": "python3"
  },
  "language_info": {
   "codemirror_mode": {
    "name": "ipython",
    "version": 3
   },
   "file_extension": ".py",
   "mimetype": "text/x-python",
   "name": "python",
   "nbconvert_exporter": "python",
   "pygments_lexer": "ipython3",
   "version": "3.6.8"
  }
 },
 "nbformat": 4,
 "nbformat_minor": 2
}
