{
 "cells": [
  {
   "cell_type": "code",
   "execution_count": 54,
   "metadata": {},
   "outputs": [],
   "source": [
    "import numpy as np\n",
    "import matplotlib.pyplot as plt\n",
    "import multiprocessing as mp\n",
    "import time\n",
    "from scipy.special import expit\n",
    "import pandas as pd"
   ]
  },
  {
   "cell_type": "code",
   "execution_count": 55,
   "metadata": {},
   "outputs": [],
   "source": [
    "def log_likelihood(X, w, y):\n",
    "    # Compute softmax predictions\n",
    "    scores = np.dot(X, w)\n",
    "    prob = expit(scores)\n",
    "    \n",
    "    # Log likelihood = 1/N * sum(log p(y_i | x_i))\n",
    "    log_lik = (y.T * np.log(prob) + (1 - y).T * np.log(1 - prob)) / X.shape[0]\n",
    "    \n",
    "    return np.mean(log_lik)\n",
    "\n",
    "def objective(X, w, y):\n",
    "    log_loss = -log_likelihood(X, w, y)\n",
    "    l2_norm = np.linalg.norm(w)\n",
    "    return log_loss, l2_norm\n",
    "\n",
    "def gradient(X, w, y):\n",
    "    # Compute softmax predictions\n",
    "    scores = np.dot(X, w)\n",
    "    prob = np.asmatrix(expit(scores))\n",
    "    \n",
    "    # Compute the gradient of the log loss\n",
    "    grad = np.dot(np.transpose(X), prob - y) / X.shape[0]\n",
    "    \n",
    "    # Compute the gradient of the l2 norm\n",
    "    l2_grad = 2 * w\n",
    "    \n",
    "    return grad, l2_grad"
   ]
  },
  {
   "cell_type": "code",
   "execution_count": null,
   "metadata": {},
   "outputs": [],
   "source": []
  }
 ],
 "metadata": {
  "kernelspec": {
   "display_name": "Python 3",
   "language": "python",
   "name": "python3"
  },
  "language_info": {
   "codemirror_mode": {
    "name": "ipython",
    "version": 3
   },
   "file_extension": ".py",
   "mimetype": "text/x-python",
   "name": "python",
   "nbconvert_exporter": "python",
   "pygments_lexer": "ipython3",
   "version": "3.6.8"
  }
 },
 "nbformat": 4,
 "nbformat_minor": 4
}
